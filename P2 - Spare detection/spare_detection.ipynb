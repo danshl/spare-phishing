{
  "nbformat": 4,
  "nbformat_minor": 0,
  "metadata": {
    "colab": {
      "provenance": [],
      "gpuType": "T4"
    },
    "kernelspec": {
      "name": "python3",
      "display_name": "Python 3"
    },
    "language_info": {
      "name": "python"
    },
    "accelerator": "GPU"
  },
  "cells": [
    {
      "cell_type": "markdown",
      "source": [
        "### Import required libraries"
      ],
      "metadata": {
        "id": "xgVCwjEf8pe8"
      }
    },
    {
      "cell_type": "code",
      "source": [
        "import numpy as np\n",
        "import pandas as pd\n",
        "import torch\n",
        "import matplotlib.pyplot as plt\n",
        "from time import time\n",
        "from torch import nn, optim\n",
        "import torch.nn.functional as F\n",
        "from tqdm import tqdm\n",
        "import os\n",
        "from sklearn.feature_extraction.text import TfidfVectorizer, CountVectorizer\n",
        "from sklearn.preprocessing import LabelEncoder\n",
        "import re\n"
      ],
      "metadata": {
        "id": "a1F2NYSstJQK"
      },
      "execution_count": 1,
      "outputs": []
    },
    {
      "cell_type": "markdown",
      "source": [
        "### Text preprocessing"
      ],
      "metadata": {
        "id": "iZ5mS87t824G"
      }
    },
    {
      "cell_type": "code",
      "source": [
        "from google.colab import drive\n",
        "drive.mount('/content/gdrive/')\n",
        "emails_df = pd.read_csv(\"gdrive/My Drive/Method attack/Project - spam detection/emails.csv\")\n",
        "emails_df.columns = [\"text\", \"label\"]\n",
        "\n",
        "def preprocess_and_extract_features(emails_df):\n",
        "    tfidf_vectorizer = TfidfVectorizer(max_features=1000, stop_words='english')\n",
        "    X = tfidf_vectorizer.fit_transform(emails_df['text']).toarray()\n",
        "    y = LabelEncoder().fit_transform(emails_df['label'])\n",
        "    return X, y\n",
        "\n",
        "X, y = preprocess_and_extract_features(emails_df)"
      ],
      "metadata": {
        "id": "opCnmNNKTIE1",
        "colab": {
          "base_uri": "https://localhost:8080/"
        },
        "outputId": "b45c1832-fd8a-4b7d-f253-67c81e551c02"
      },
      "execution_count": 2,
      "outputs": [
        {
          "output_type": "stream",
          "name": "stdout",
          "text": [
            "Drive already mounted at /content/gdrive/; to attempt to forcibly remount, call drive.mount(\"/content/gdrive/\", force_remount=True).\n"
          ]
        }
      ]
    },
    {
      "cell_type": "markdown",
      "source": [
        "### Feature extraction"
      ],
      "metadata": {
        "id": "7RnBs5qP8-eo"
      }
    },
    {
      "cell_type": "code",
      "source": [
        "# Function to check presence of HTML tags\n",
        "def has_html_tags(text):\n",
        "    return int(bool(re.search(r'<[^>]+>', text)))\n",
        "\n",
        "# Function to extract word frequency features using CountVectorizer\n",
        "def extract_word_frequency_features(emails_df):\n",
        "    count_vectorizer = CountVectorizer(stop_words='english', max_features=1000)\n",
        "    X_count = count_vectorizer.fit_transform(emails_df['text']).toarray()\n",
        "    return X_count\n",
        "\n",
        "# Function to extract HTML tag presence feature\n",
        "def extract_html_features(emails_df):\n",
        "    additional_features = np.zeros((emails_df.shape[0], 1))\n",
        "\n",
        "    for i, text in enumerate(emails_df['text']):\n",
        "        additional_features[i, 0] = has_html_tags(text)\n",
        "\n",
        "    return additional_features\n",
        "\n",
        "# Function to extract TF-IDF features\n",
        "def extract_tfidf_features(emails_df):\n",
        "    tfidf_vectorizer = TfidfVectorizer(max_features=1000, stop_words='english')\n",
        "    X_tfidf = tfidf_vectorizer.fit_transform(emails_df['text']).toarray()\n",
        "    return X_tfidf\n",
        "\n",
        "# Function to encode labels\n",
        "def encode_labels(emails_df):\n",
        "    y = LabelEncoder().fit_transform(emails_df['label'])\n",
        "    return y\n",
        "\n"
      ],
      "metadata": {
        "id": "EjG_aE5Had4K"
      },
      "execution_count": 3,
      "outputs": []
    },
    {
      "cell_type": "markdown",
      "source": [
        "### Build a model structure"
      ],
      "metadata": {
        "id": "yawCpvdx9JRd"
      }
    },
    {
      "cell_type": "code",
      "source": [
        "class MLPModel(nn.Module):\n",
        "    def __init__(self, input_size, hidden_size, output_size):\n",
        "        super(MLPModel, self).__init__()\n",
        "        self.fc1 = nn.Linear(input_size, hidden_size)\n",
        "        self.fc2 = nn.Linear(hidden_size, hidden_size)\n",
        "        self.fc3 = nn.Linear(hidden_size, output_size)\n",
        "\n",
        "    def forward(self, x):\n",
        "        x = F.relu(self.fc1(x))\n",
        "        x = F.relu(self.fc2(x))\n",
        "        x = self.fc3(x)\n",
        "        return x\n",
        "\n",
        "def train_model(model, X, y, optimizer, criterion, epochs=60):\n",
        "    model.train()\n",
        "    losses = []\n",
        "    for epoch in tqdm(range(epochs)):\n",
        "        optimizer.zero_grad()\n",
        "        y_pred = model(X)\n",
        "        loss = criterion(y_pred, y)\n",
        "        losses.append(loss.item())\n",
        "        loss.backward()\n",
        "        optimizer.step()\n",
        "    return model, losses\n",
        "\n",
        "def evaluate_model(model, X, y, criterion):\n",
        "    model.eval()\n",
        "    with torch.no_grad():\n",
        "        y_pred = model(X)\n",
        "        loss = criterion(y_pred, y)\n",
        "        y_pred_label = torch.argmax(y_pred, dim=1).item()\n",
        "        correct = (y_pred_label == y.item())\n",
        "    return correct, loss, y_pred_label\n",
        "\n",
        "# Combine predictions\n",
        "def combined_accuracy(word_freq_predictions,tfidf_predictions):\n",
        "  final_predictions = []\n",
        "  for i in range(len(y_eval)):\n",
        "      if word_freq_predictions[i] == 1 or tfidf_predictions[i] == 1:\n",
        "          final_predictions.append(1)\n",
        "      else:\n",
        "          final_predictions.append(0)\n",
        "  final_correct_predictions = sum([1 if final_predictions[i] == y_eval[i].item() else 0 for i in range(len(y_eval))])\n",
        "  final_accuracy = final_correct_predictions / len(y_eval)\n",
        "  return final_accuracy\n",
        "\n",
        "def run_experiment(X_train, X_eval, y_train, y_eval, input_size):\n",
        "    model = MLPModel(input_size, hidden_size, output_size).to(device)\n",
        "    criterion = nn.CrossEntropyLoss()\n",
        "    optimizer = optim.Adam(model.parameters(), lr=0.001)\n",
        "\n",
        "    # Train\n",
        "    model, losses = train_model(model, X_train.to(device), y_train.to(device), optimizer, criterion, epochs=60)\n",
        "\n",
        "    # Evaluation\n",
        "    predictions = []\n",
        "    correct_predictions = 0\n",
        "    total_loss = 0\n",
        "    for i in range(len(X_eval)):\n",
        "        X_test = X_eval[i].reshape(1, -1)\n",
        "        y_test = y_eval[i].reshape(1)\n",
        "        correct, loss, y_pred_label = evaluate_model(model, X_test.to(device), y_test.to(device), criterion)\n",
        "        predictions.append(y_pred_label)\n",
        "        correct_predictions += correct\n",
        "        total_loss += loss\n",
        "\n",
        "    accuracy = correct_predictions / len(X_eval)\n",
        "    average_loss = total_loss / len(X_eval)\n",
        "    return predictions, accuracy, average_loss, model, losses\n",
        "\n",
        "\n"
      ],
      "metadata": {
        "id": "aVGb0O0v6PG9"
      },
      "execution_count": 4,
      "outputs": []
    },
    {
      "cell_type": "markdown",
      "source": [
        "### Create the model and split the data"
      ],
      "metadata": {
        "id": "m8OmAEu39P73"
      }
    },
    {
      "cell_type": "code",
      "source": [
        "hidden_size = 128\n",
        "output_size = 2\n",
        "device = torch.device(\"cuda\" if torch.cuda.is_available() else \"cpu\")\n",
        "\n",
        "\n",
        "# Prepare data for each model\n",
        "X_word_freq = extract_word_frequency_features(emails_df)\n",
        "X_tfidf = extract_tfidf_features(emails_df)\n",
        "y = encode_labels(emails_df)\n",
        "\n",
        "# Prepare training data\n",
        "train_indices = np.concatenate((np.arange(0, 800), np.arange(1400, 2100), np.arange(2200, 3700)))\n",
        "np.random.shuffle(train_indices)\n",
        "X_train_word_freq = X_word_freq[train_indices]\n",
        "X_train_tfidf = X_tfidf[train_indices]\n",
        "y_train = y[train_indices]\n",
        "\n",
        "# Convert to torch tensors for training data\n",
        "X_train_word_freq = torch.tensor(X_train_word_freq, dtype=torch.float32)\n",
        "X_train_tfidf = torch.tensor(X_train_tfidf, dtype=torch.float32)\n",
        "y_train = torch.tensor(y_train, dtype=torch.long)\n",
        "\n",
        "\n",
        "\n",
        "# Prepare evaluation data\n",
        "eval_indices = np.concatenate((np.arange(1100, 1200), np.arange(2100, 2200)))\n",
        "np.random.shuffle(eval_indices)\n",
        "X_eval_word_freq = X_word_freq[eval_indices]\n",
        "X_eval_tfidf = X_tfidf[eval_indices]\n",
        "y_eval = y[eval_indices]\n",
        "\n",
        "\n",
        "# Convert evaluation data to torch tensors\n",
        "X_eval_word_freq = torch.tensor(X_eval_word_freq, dtype=torch.float32)\n",
        "X_eval_tfidf = torch.tensor(X_eval_tfidf, dtype=torch.float32)\n",
        "y_eval = torch.tensor(y_eval, dtype=torch.long)\n",
        "\n",
        "\n"
      ],
      "metadata": {
        "id": "3U-5S4GV77s3"
      },
      "execution_count": 5,
      "outputs": []
    },
    {
      "cell_type": "markdown",
      "source": [
        "### Train and evaluate the model"
      ],
      "metadata": {
        "id": "98AwA4Iv-Hud"
      }
    },
    {
      "cell_type": "code",
      "source": [
        "# Calculate the 'Word Frequency' features model accuracy\n",
        "print(\"Word Frequency Model\")\n",
        "word_freq_predictions, word_freq_accuracy, word_freq_loss, modelFrequency, word_freq_losses = run_experiment(X_train_word_freq, X_eval_word_freq, y_train, y_eval, X_train_word_freq.shape[1])\n",
        "print(f\"Word Frequency Model Accuracy: {word_freq_accuracy:.4f}, Loss: {word_freq_loss:.4f}\")\n",
        "\n",
        "# Calculate the 'TF-IDF' features model accuracy\n",
        "print()\n",
        "print(\"TF-IDF Features Model\")\n",
        "tfidf_predictions, tfidf_accuracy, tfidf_loss, modelTFIDF, tfidf_losses = run_experiment(X_train_tfidf, X_eval_tfidf, y_train, y_eval, X_train_tfidf.shape[1])\n",
        "print(f\"TF-IDF Features Model Accuracy: {tfidf_accuracy:.4f}, Loss: {tfidf_loss:.4f}\")\n",
        "\n",
        "# Calculate the combined model accuracy\n",
        "print()\n",
        "final_accuracy = combined_accuracy(word_freq_predictions,tfidf_predictions)\n",
        "print(f\"Final Combined Model Accuracy: {final_accuracy:.4f}\")\n"
      ],
      "metadata": {
        "colab": {
          "base_uri": "https://localhost:8080/"
        },
        "id": "2LI63P1z9-4p",
        "outputId": "87e06dbc-4ddb-4f4b-8c7b-971bd2a2f6fc"
      },
      "execution_count": 6,
      "outputs": [
        {
          "output_type": "stream",
          "name": "stdout",
          "text": [
            "Word Frequency Model\n"
          ]
        },
        {
          "output_type": "stream",
          "name": "stderr",
          "text": [
            "100%|██████████| 60/60 [00:00<00:00, 90.67it/s] \n"
          ]
        },
        {
          "output_type": "stream",
          "name": "stdout",
          "text": [
            "Word Frequency Model Accuracy: 0.9800, Loss: 0.1371\n",
            "\n",
            "TF-IDF Features Model\n"
          ]
        },
        {
          "output_type": "stream",
          "name": "stderr",
          "text": [
            "100%|██████████| 60/60 [00:00<00:00, 464.87it/s]\n"
          ]
        },
        {
          "output_type": "stream",
          "name": "stdout",
          "text": [
            "TF-IDF Features Model Accuracy: 0.9700, Loss: 0.0719\n",
            "\n",
            "Final Combined Model Accuracy: 0.9750\n"
          ]
        }
      ]
    },
    {
      "cell_type": "markdown",
      "source": [
        "### Plot the training losses"
      ],
      "metadata": {
        "id": "-wqoffQf_r3m"
      }
    },
    {
      "cell_type": "code",
      "source": [
        "plt.figure(figsize=(10, 5))\n",
        "plt.plot(word_freq_losses, label='Word Frequency Model Loss')\n",
        "plt.plot(tfidf_losses, label='TF-IDF Features Model Loss')\n",
        "plt.xlabel('Epochs')\n",
        "plt.ylabel('Loss')\n",
        "plt.title('Training Losses')\n",
        "plt.legend()\n",
        "plt.show()"
      ],
      "metadata": {
        "id": "5niAEXVX6N2k",
        "colab": {
          "base_uri": "https://localhost:8080/",
          "height": 487
        },
        "outputId": "ba971d61-5e38-4ce6-9a10-0c50eea67bc4"
      },
      "execution_count": 7,
      "outputs": [
        {
          "output_type": "display_data",
          "data": {
            "text/plain": [
              "<Figure size 1000x500 with 1 Axes>"
            ],
            "image/png": "[encoded data removed]"
          },
          "metadata": {}
        }
      ]
    },
    {
      "cell_type": "markdown",
      "source": [
        "### External Dataset Example and Model Testing"
      ],
      "metadata": {
        "id": "yUGXh4du8nFp"
      }
    },
    {
      "cell_type": "code",
      "source": [
        "spam_messge = \"\"\"\n",
        "Dear John,\n",
        "\n",
        "We have noticed some unusual activity on your account and require you to verify your information immediately. Failure to do so may result in the suspension of your account. Please click on the link below to verify your account details:\n",
        "\n",
        "[Click here to verify your account](http://scamwebsite.com/verify)\n",
        "\n",
        "Thank you for your prompt attention to this matter.\n",
        "\n",
        "Sincerely,\n",
        "The Support Team\n",
        "\n",
        "\"\"\"\n",
        "\n",
        "non_spam_message = \"\"\"\n",
        "Hi John,\n",
        "\n",
        "I hope this email finds you well. I wanted to confirm our meeting scheduled for next Tuesday at 10 AM. We will be discussing the new project plans and next steps for our team.\n",
        "\n",
        "Please let me know if this time works for you or if we need to reschedule.\n",
        "\n",
        "Best regards,\n",
        "Jane Smith\n",
        "Project Manager\n",
        "\n",
        "\"\"\""
      ],
      "metadata": {
        "id": "KZHGnFf9rTKZ"
      },
      "execution_count": 8,
      "outputs": []
    },
    {
      "cell_type": "code",
      "source": [
        "\n",
        "# Preprocess\n",
        "def preprocess_single_email(text):\n",
        "    word_freq_vectorizer = CountVectorizer(stop_words='english', max_features=1000)\n",
        "    word_freq_vectorizer.fit(emails_df['text'])\n",
        "    X_word_freq = word_freq_vectorizer.transform([text]).toarray()\n",
        "\n",
        "    tfidf_vectorizer = TfidfVectorizer(max_features=1000, stop_words='english')\n",
        "    tfidf_vectorizer.fit(emails_df['text'])\n",
        "    X_tfidf = tfidf_vectorizer.transform([text]).toarray()\n",
        "\n",
        "    return X_word_freq, X_tfidf\n",
        "\n",
        "# Function to get prediction from a single model\n",
        "def get_prediction(model, X):\n",
        "    with torch.no_grad():\n",
        "        y_pred = model(X)\n",
        "        y_pred_label = torch.argmax(y_pred, dim=1).item()\n",
        "    return y_pred_label\n",
        "\n",
        "def evaluate_model_one_example(email_message):\n",
        "  X_word_freq_single, X_tfidf_single = preprocess_single_email(email_message)\n",
        "\n",
        "  # Convert to torch tensors\n",
        "  X_word_freq_single = torch.tensor(X_word_freq_single, dtype=torch.float32).to(device)\n",
        "  X_tfidf_single = torch.tensor(X_tfidf_single, dtype=torch.float32).to(device)\n",
        "\n",
        "  # Get predictions from each model\n",
        "  word_freq_pred = get_prediction(modelFrequency, X_word_freq_single)\n",
        "  tfidf_pred = get_prediction(modelTFIDF, X_tfidf_single)\n",
        "  final_pred = 1 if (word_freq_pred == 1  or tfidf_pred == 1) else 0\n",
        "\n",
        "  return word_freq_pred, tfidf_pred, final_pred\n",
        "\n",
        "def print_findings(word_freq_pred, tfidf_pred, final_pred):\n",
        "  print(f\"Word Frequency Model Prediction: {word_freq_pred}\")\n",
        "  print(f\"TF-IDF Features Model Prediction: {tfidf_pred}\")\n",
        "  print(f\"Final Combined Prediction: {final_pred}\")\n",
        "\n",
        "# Print results\n",
        "print(\"Spam message: \")\n",
        "word_freq_pred, tfidf_pred, final_pred = evaluate_model_one_example(spam_messge)\n",
        "print_findings(word_freq_pred, tfidf_pred, final_pred )\n",
        "\n",
        "print()\n",
        "print(\"Non spam message: \")\n",
        "word_freq_pred, tfidf_pred, final_pred = evaluate_model_one_example(non_spam_message)\n",
        "print_findings(word_freq_pred, tfidf_pred, final_pred )"
      ],
      "metadata": {
        "colab": {
          "base_uri": "https://localhost:8080/"
        },
        "id": "gi7D0TrWfpnb",
        "outputId": "b00686e4-b26e-47ac-d678-028f814017de"
      },
      "execution_count": 9,
      "outputs": [
        {
          "output_type": "stream",
          "name": "stdout",
          "text": [
            "Spam message: \n",
            "Word Frequency Model Prediction: 1\n",
            "TF-IDF Features Model Prediction: 1\n",
            "Final Combined Prediction: 1\n",
            "\n",
            "Non spam message: \n",
            "Word Frequency Model Prediction: 0\n",
            "TF-IDF Features Model Prediction: 0\n",
            "Final Combined Prediction: 0\n"
          ]
        }
      ]
    }
  ]
}